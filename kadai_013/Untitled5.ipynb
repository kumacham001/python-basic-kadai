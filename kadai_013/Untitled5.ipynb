{
  "nbformat": 4,
  "nbformat_minor": 0,
  "metadata": {
    "colab": {
      "provenance": []
    },
    "kernelspec": {
      "name": "python3",
      "display_name": "Python 3"
    },
    "language_info": {
      "name": "python"
    }
  },
  "cells": [
    {
      "cell_type": "code",
      "execution_count": 13,
      "metadata": {
        "colab": {
          "base_uri": "https://localhost:8080/"
        },
        "id": "w55lUODUiv08",
        "outputId": "79efa1f7-59eb-486a-ddcd-344ef113683c"
      },
      "outputs": [
        {
          "output_type": "stream",
          "name": "stdout",
          "text": [
            "2178.0\n"
          ]
        }
      ],
      "source": [
        "#戻り値：税込金額\n",
        "def calculate_tax(goods, tax_rate):\n",
        "        return goods*(tax_rate/100+1)\n",
        "\n",
        "#第1引数:金額、第2引数：消費税税率(%)、\n",
        "total=calculate_tax(1980,10)\n",
        "print(total)\n"
      ]
    },
    {
      "cell_type": "markdown",
      "source": [],
      "metadata": {
        "id": "wMjXX1goyFUE"
      }
    }
  ]
}