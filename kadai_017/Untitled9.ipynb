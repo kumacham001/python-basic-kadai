{
  "nbformat": 4,
  "nbformat_minor": 0,
  "metadata": {
    "colab": {
      "provenance": []
    },
    "kernelspec": {
      "name": "python3",
      "display_name": "Python 3"
    },
    "language_info": {
      "name": "python"
    }
  },
  "cells": [
    {
      "cell_type": "code",
      "execution_count": 11,
      "metadata": {
        "colab": {
          "base_uri": "https://localhost:8080/"
        },
        "id": "AP86yKRttBlg",
        "outputId": "7266b1b1-35b1-42ef-ee83-21465a8977a8"
      },
      "outputs": [
        {
          "output_type": "stream",
          "name": "stdout",
          "text": [
            "ちこちゃん 5才：大人ではありません\n",
            "おかむら 54才：大人です\n",
            "きょえちゃん 21才：大人です\n"
          ]
        }
      ],
      "source": [
        "class Human:\n",
        "    # コンストラクタの定義\n",
        "    def __init__(self, name, age):\n",
        "        self.name = name\n",
        "        self.age = age\n",
        "\n",
        "    # メソッドの定義\n",
        "    def check_adult(self):\n",
        "      if self.age >= 20:\n",
        "        print(self.name + \" \" + str(self.age) + \"才：大人です\")\n",
        "      else:\n",
        "        print(self.name + \" \" + str(self.age) + \"才：大人ではありません\")\n",
        "\n",
        "# 辞書の作成\n",
        "personal_data = {\"ちこちゃん\": 5, \"おかむら\": 54, \"きょえちゃん\": 21}\n",
        "\n",
        "# 辞書の配列を一つずつ処理\n",
        "for key, value in personal_data.items():\n",
        "    # インスタンス化\n",
        "    user = Human(key, value)\n",
        "    # 判定\n",
        "    user.check_adult()"
      ]
    }
  ]
}