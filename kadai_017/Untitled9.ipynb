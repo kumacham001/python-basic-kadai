{
  "nbformat": 4,
  "nbformat_minor": 0,
  "metadata": {
    "colab": {
      "provenance": []
    },
    "kernelspec": {
      "name": "python3",
      "display_name": "Python 3"
    },
    "language_info": {
      "name": "python"
    }
  },
  "cells": [
    {
      "cell_type": "code",
      "execution_count": 13,
      "metadata": {
        "colab": {
          "base_uri": "https://localhost:8080/"
        },
        "id": "AP86yKRttBlg",
        "outputId": "988c7757-2ead-4a71-9976-1e7e826d98c6"
      },
      "outputs": [
        {
          "output_type": "stream",
          "name": "stdout",
          "text": [
            "ちこちゃん 5才：大人ではありません\n",
            "おかむら 54才：大人です\n",
            "きょえちゃん 21才：大人です\n"
          ]
        }
      ],
      "source": [
        "class Human:\n",
        "    # コンストラクタの定義\n",
        "    def __init__(self, name, age):\n",
        "        self.name = name\n",
        "        self.age = age\n",
        "\n",
        "    # メソッドの定義\n",
        "    def check_adult(self):\n",
        "      if self.age >= 20:\n",
        "        print(self.name + \" \" + str(self.age) + \"才：大人です\")\n",
        "      else:\n",
        "        print(self.name + \" \" + str(self.age) + \"才：大人ではありません\")\n",
        "\n",
        "# Humanクラスのインスタンスを複数生成\n",
        "human1 = Human(\"ちこちゃん\", 5)\n",
        "human2 = Human(\"おかむら\", 54)\n",
        "human3 = Human(\"きょえちゃん\", 21)\n",
        "\n",
        "# 生成したインスタンスをリストに追加\n",
        "human_list = [human1, human2, human3]\n",
        "\n",
        "# 辞書の配列を一つずつ処理\n",
        "for human in human_list:\n",
        "    # 判定\n",
        "    human.check_adult()"
      ]
    }
  ]
}