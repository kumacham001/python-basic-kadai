{
  "nbformat": 4,
  "nbformat_minor": 0,
  "metadata": {
    "colab": {
      "provenance": []
    },
    "kernelspec": {
      "name": "python3",
      "display_name": "Python 3"
    },
    "language_info": {
      "name": "python"
    }
  },
  "cells": [
    {
      "cell_type": "code",
      "execution_count": 17,
      "metadata": {
        "colab": {
          "base_uri": "https://localhost:8080/"
        },
        "id": "CyiD4VffDCI6",
        "outputId": "34c46fa6-8b44-4e6c-df1d-ad7b5d522c71"
      },
      "outputs": [
        {
          "output_type": "stream",
          "name": "stdout",
          "text": [
            "FizzBuzz\n"
          ]
        }
      ],
      "source": [
        "var=30\n",
        "if var%3==0 and var%5==0:\n",
        "    print(\"FizzBuzz\")\n",
        "elif var%3==0:\n",
        "    print(\"Fizz\")\n",
        "elif var%5==0:\n",
        "    print(\"Buzz\")\n",
        "else:\n",
        "    print(str(var))\n"
      ]
    }
  ]
}