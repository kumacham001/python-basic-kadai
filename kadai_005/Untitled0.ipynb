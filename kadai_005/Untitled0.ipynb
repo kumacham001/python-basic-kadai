{
  "nbformat": 4,
  "nbformat_minor": 0,
  "metadata": {
    "colab": {
      "provenance": []
    },
    "kernelspec": {
      "name": "python3",
      "display_name": "Python 3"
    },
    "language_info": {
      "name": "python"
    }
  },
  "cells": [
    {
      "cell_type": "code",
      "execution_count": 7,
      "metadata": {
        "colab": {
          "base_uri": "https://localhost:8080/"
        },
        "id": "y4PHmfykYIzT",
        "outputId": "e7ed7d9d-bc1b-41b5-9a1b-8e0826292471"
      },
      "outputs": [
        {
          "output_type": "stream",
          "name": "stdout",
          "text": [
            "75.0cm²\n"
          ]
        }
      ],
      "source": [
        "#上辺：10cm 下辺：20cm 高さ：5cm\n",
        "#公式：台形の面積 =（上辺＋下辺）× 高さ ÷ 2upper=10\n",
        "upper=10\n",
        "lower=20\n",
        "height=5\n",
        "trapezoid=(upper+lower)*height/2\n",
        "print(str(trapezoid)+\"cm²\")"
      ]
    },
    {
      "cell_type": "code",
      "source": [],
      "metadata": {
        "id": "t8I8HR-aY4qf"
      },
      "execution_count": null,
      "outputs": []
    }
  ]
}